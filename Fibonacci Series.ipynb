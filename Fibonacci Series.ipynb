{
  "nbformat": 4,
  "nbformat_minor": 0,
  "metadata": {
    "colab": {
      "name": "Untitled0.ipynb",
      "provenance": [],
      "authorship_tag": "ABX9TyO1bX+ow22KPJjcT3ur72d5",
      "include_colab_link": true
    },
    "kernelspec": {
      "name": "python3",
      "display_name": "Python 3"
    }
  },
  "cells": [
    {
      "cell_type": "markdown",
      "metadata": {
        "id": "view-in-github",
        "colab_type": "text"
      },
      "source": [
        "<a href=\"https://colab.research.google.com/github/karan13-collab/PythonFiles/blob/master/Fibonacci%20Series.ipynb\" target=\"_parent\"><img src=\"https://colab.research.google.com/assets/colab-badge.svg\" alt=\"Open In Colab\"/></a>"
      ]
    },
    {
      "cell_type": "code",
      "metadata": {
        "id": "5HcexC6p_ap_",
        "colab_type": "code",
        "colab": {
          "base_uri": "https://localhost:8080/",
          "height": 51
        },
        "outputId": "ce8f132d-9c22-4f12-c294-f8ccdb6f59f6"
      },
      "source": [
        "n=int(input(\"Enter The Last Number: \"))\n",
        "a=0\n",
        "b=1\n",
        "c=0\n",
        "print(a,end=\" \")\n",
        "while b<=n:\n",
        "  print(b,end=\" \")\n",
        "  c=a+b\n",
        "  a=b\n",
        "  b=c"
      ],
      "execution_count": 3,
      "outputs": [
        {
          "output_type": "stream",
          "text": [
            "Enter The Last Number: 500\n",
            "0 1 1 2 3 5 8 13 21 34 55 89 144 233 377 "
          ],
          "name": "stdout"
        }
      ]
    }
  ]
}